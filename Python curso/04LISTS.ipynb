{
 "cells": [
  {
   "cell_type": "code",
   "execution_count": 12,
   "metadata": {},
   "outputs": [
    {
     "name": "stdout",
     "output_type": "stream",
     "text": [
      "0\n",
      "[35, 24, 62, 52, 30, 30, 17]\n",
      "7\n",
      "[25, 1.74, 'Anthony', 'Martinez']\n",
      "4\n",
      "<class 'list'>\n",
      "25\n",
      "1.74\n",
      "Martinez\n",
      "1\n"
     ]
    }
   ],
   "source": [
    "###LISTS###\n",
    "\n",
    "my_list = list()\n",
    "my_other_list = []\n",
    "\n",
    "print(len(my_list))\n",
    "\n",
    "my_list = [35, 24, 62, 52, 30, 30, 17]\n",
    "print(my_list)\n",
    "print(len(my_list))\n",
    "\n",
    "my_other_list = [25,1.74,\"Anthony\",\"Martinez\"]\n",
    "print(my_other_list)\n",
    "print(len(my_other_list))\n",
    "\n",
    "print(type(my_other_list))\n",
    "print(my_other_list[0])\n",
    "print(my_other_list[1])\n",
    "print(my_other_list[-1])\n",
    "print(my_other_list.count(\"Martinez\"))\n",
    "\n"
   ]
  },
  {
   "cell_type": "code",
   "execution_count": 11,
   "metadata": {},
   "outputs": [
    {
     "name": "stdout",
     "output_type": "stream",
     "text": [
      "Anthony\n",
      "1.74\n",
      "25\n"
     ]
    }
   ],
   "source": [
    "my_other_list = [25, 1.74, \"Anthony\", \"Martinez\"]\n",
    "age,height,name,surname=my_other_list\n",
    "print(name)\n",
    "print(height)\n",
    "print(age)\n",
    "\n"
   ]
  },
  {
   "cell_type": "code",
   "execution_count": 10,
   "metadata": {},
   "outputs": [
    {
     "name": "stdout",
     "output_type": "stream",
     "text": [
      "23\n",
      "Imane\n",
      "Abdeslami\n",
      "1.71\n",
      "1.71\n",
      "Imane\n",
      "Imane\n",
      "1.71\n",
      "Abdeslami\n",
      "23\n"
     ]
    }
   ],
   "source": [
    "my_other_list2=[23,\"Imane\",\"Abdeslami\",1.71]\n",
    "print(my_other_list2[0])\n",
    "print(my_other_list2[1])\n",
    "print(my_other_list2[2])\n",
    "print(my_other_list2[3])\n",
    "print(my_other_list2[-1])\n",
    "print(my_other_list2[-3])\n",
    "\n",
    "age,name,surname,height=my_other_list2\n",
    "print(name)\n",
    "print(height)\n",
    "print(surname)\n",
    "print(age)\n",
    "\n",
    "\n"
   ]
  },
  {
   "cell_type": "code",
   "execution_count": 9,
   "metadata": {},
   "outputs": [
    {
     "ename": "NameError",
     "evalue": "name 'my_other_list' is not defined",
     "output_type": "error",
     "traceback": [
      "\u001b[1;31m---------------------------------------------------------------------------\u001b[0m",
      "\u001b[1;31mNameError\u001b[0m                                 Traceback (most recent call last)",
      "Cell \u001b[1;32mIn[9], line 2\u001b[0m\n\u001b[0;32m      1\u001b[0m \u001b[39m#CONCATENAR LISTAS\u001b[39;00m\n\u001b[1;32m----> 2\u001b[0m \u001b[39mprint\u001b[39m(my_other_list \u001b[39m+\u001b[39m my_other_list2)\n\u001b[0;32m      3\u001b[0m \u001b[39mprint\u001b[39m(my_list \u001b[39m+\u001b[39m my_other_list)\n",
      "\u001b[1;31mNameError\u001b[0m: name 'my_other_list' is not defined"
     ]
    }
   ],
   "source": [
    "#CONCATENAR LISTAS\n",
    "print(my_other_list + my_other_list2)\n",
    "print(my_list + my_other_list)\n"
   ]
  },
  {
   "cell_type": "code",
   "execution_count": 2,
   "metadata": {},
   "outputs": [
    {
     "name": "stdout",
     "output_type": "stream",
     "text": [
      "<class 'str'>\n",
      "Hola Python\n"
     ]
    }
   ],
   "source": [
    "#TIPADO DINAMICO \n",
    "\n",
    "my_list=\"Hola Python\" #con esto vamos a transformar de \"tipo list\"\" a \"tipo str\"\n",
    "print(type(my_list))\n",
    "print(my_list)\n",
    "#Esto quiere decir que vamos a dejar de tener my_list con las funciones de una lista a tener funciones de str\n"
   ]
  },
  {
   "cell_type": "code",
   "execution_count": 1,
   "metadata": {},
   "outputs": [
    {
     "ename": "IndentationError",
     "evalue": "unexpected indent (2665726669.py, line 3)",
     "output_type": "error",
     "traceback": [
      "\u001b[1;36m  Cell \u001b[1;32mIn[1], line 3\u001b[1;36m\u001b[0m\n\u001b[1;33m    my_list=list(\"Hola Python\")\u001b[0m\n\u001b[1;37m    ^\u001b[0m\n\u001b[1;31mIndentationError\u001b[0m\u001b[1;31m:\u001b[0m unexpected indent\n"
     ]
    }
   ],
   "source": [
    "#CREAR CONSTANTES\n",
    "\n",
    " my_list=list(\"Hola Python\")"
   ]
  },
  {
   "cell_type": "code",
   "execution_count": 11,
   "metadata": {},
   "outputs": [
    {
     "name": "stdout",
     "output_type": "stream",
     "text": [
      "[25, 1.74, 'Anthony', 'Martinez', 'Campohats']\n"
     ]
    }
   ],
   "source": [
    "#Añadir un nuevo elemento a la lista # OPERADOR .APPEND\n",
    "\n",
    "my_other_list = [25, 1.74,\"Anthony\",\"Martinez\"]\n",
    "age, height, name, surname = my_other_list\n",
    "my_other_list.append(\"Campohats\")\n",
    "print(my_other_list)"
   ]
  },
  {
   "cell_type": "code",
   "execution_count": 14,
   "metadata": {},
   "outputs": [
    {
     "name": "stdout",
     "output_type": "stream",
     "text": [
      "[25, 'rojo', 1.74, 'Anthony', 'Martinez', 'Campohats']\n",
      "[25, 'Azul', 1.74, 'Anthony', 'Martinez', 'Campohats']\n"
     ]
    }
   ],
   "source": [
    "#FUNCION .INSERT\n",
    "my_other_list.insert(1,\"rojo\")\n",
    "print(my_other_list)\n",
    "my_other_list[1]=\"Azul\"\n",
    "print(my_other_list)\n",
    "#my_other_list.insert(1,\"Azul\")\n",
    "#print(my_other_list)\n",
    "#my_other_list.insert(0,\"Azul\")\n",
    "#print(my_other_list)\n",
    "\n",
    "\n",
    "\n"
   ]
  },
  {
   "cell_type": "code",
   "execution_count": 23,
   "metadata": {},
   "outputs": [
    {
     "name": "stdout",
     "output_type": "stream",
     "text": [
      "[25, 'Azul', 1.74, 'Anthony', 'Martinez', 'Campohats']\n"
     ]
    }
   ],
   "source": [
    "#FUNCION .REMOVE ( ELIMINA UN ELEMENTO DE LA LISTA)\n",
    "my_other_list.remove(\"Azul\")\n",
    "print(my_other_list)\n"
   ]
  },
  {
   "cell_type": "code",
   "execution_count": 50,
   "metadata": {},
   "outputs": [
    {
     "name": "stdout",
     "output_type": "stream",
     "text": [
      "[35, 24, 62, 52, 30, 30, 17]\n",
      "[35, 24, 62, 52, 30, 30]\n"
     ]
    }
   ],
   "source": [
    "my_list = [35, 24, 62, 52, 30, 30, 17]\n",
    "print(my_list)\n",
    "my_list.pop()\n",
    "print(my_list)"
   ]
  },
  {
   "cell_type": "code",
   "execution_count": 28,
   "metadata": {},
   "outputs": [
    {
     "name": "stdout",
     "output_type": "stream",
     "text": [
      "['Azul']\n"
     ]
    }
   ],
   "source": [
    "my_other_list.pop()\n",
    "print(my_other_list)"
   ]
  },
  {
   "cell_type": "code",
   "execution_count": 49,
   "metadata": {},
   "outputs": [
    {
     "name": "stdout",
     "output_type": "stream",
     "text": [
      "25\n"
     ]
    }
   ],
   "source": [
    "my_other_list = [25, 1.74, \"Anthony\", \"Martinez\"]\n",
    "#print(my_other_list)\n",
    "print(my_other_list.pop(0))\n",
    "\n"
   ]
  },
  {
   "cell_type": "code",
   "execution_count": 52,
   "metadata": {},
   "outputs": [
    {
     "name": "stdout",
     "output_type": "stream",
     "text": [
      "25\n"
     ]
    }
   ],
   "source": [
    "my_pop_element=my_other_list.pop(0)\n",
    "print(my_pop_element)"
   ]
  },
  {
   "cell_type": "code",
   "execution_count": 10,
   "metadata": {},
   "outputs": [
    {
     "name": "stdout",
     "output_type": "stream",
     "text": [
      "[26, 23, 14, 48, 52]\n",
      "1\n"
     ]
    }
   ],
   "source": [
    "my_list=[26,23,14,48,52]\n",
    "print(my_list)\n",
    "print(my_list.index(23))\n"
   ]
  },
  {
   "cell_type": "code",
   "execution_count": 55,
   "metadata": {},
   "outputs": [
    {
     "name": "stdout",
     "output_type": "stream",
     "text": [
      "[23, 14, 48, 52]\n"
     ]
    }
   ],
   "source": [
    "del my_list[0]\n",
    "print(my_list)\n"
   ]
  },
  {
   "cell_type": "code",
   "execution_count": 57,
   "metadata": {},
   "outputs": [
    {
     "name": "stdout",
     "output_type": "stream",
     "text": [
      "[23, 48, 52]\n"
     ]
    }
   ],
   "source": [
    "del my_list[1]\n",
    "print(my_list)\n"
   ]
  },
  {
   "cell_type": "code",
   "execution_count": 58,
   "metadata": {},
   "outputs": [
    {
     "name": "stdout",
     "output_type": "stream",
     "text": [
      "[23, 48]\n"
     ]
    }
   ],
   "source": [
    "del my_list[2]\n",
    "print(my_list)\n"
   ]
  },
  {
   "cell_type": "code",
   "execution_count": 59,
   "metadata": {},
   "outputs": [
    {
     "name": "stdout",
     "output_type": "stream",
     "text": [
      "[26, 23, 14, 48, 52]\n",
      "[]\n"
     ]
    }
   ],
   "source": [
    "my_list=[26,23,14,48,52]\n",
    "print(my_list)\n",
    "my_list.clear()#borramos la lista entera\n",
    "print(my_list)"
   ]
  },
  {
   "cell_type": "code",
   "execution_count": 3,
   "metadata": {},
   "outputs": [
    {
     "name": "stdout",
     "output_type": "stream",
     "text": [
      "[26, 23, 14, 48, 52]\n",
      "[]\n",
      "[26, 23, 14, 48, 52]\n"
     ]
    }
   ],
   "source": [
    "#FUNCION .COPY\n",
    "my_list = [26, 23, 14, 48, 52]\n",
    "print(my_list)\n",
    "my_new_list=my_list.copy()\n",
    "my_list.clear()\n",
    "print(my_list)\n",
    "print(my_new_list)\n",
    "\n"
   ]
  },
  {
   "cell_type": "code",
   "execution_count": 8,
   "metadata": {},
   "outputs": [
    {
     "name": "stdout",
     "output_type": "stream",
     "text": [
      "[52, 48, 14, 23, 26]\n"
     ]
    }
   ],
   "source": [
    "#FUNCION .REVERSE\n",
    "my_new_list.reverse()\n",
    "print(my_new_list)"
   ]
  },
  {
   "cell_type": "code",
   "execution_count": 9,
   "metadata": {},
   "outputs": [
    {
     "name": "stdout",
     "output_type": "stream",
     "text": [
      "[14, 23, 26, 48, 52]\n"
     ]
    }
   ],
   "source": [
    "#FUNCION .SORT\n",
    "my_new_list.sort()\n",
    "print(my_new_list)#EN ESTE CASO TE LO ORDENA DE MENOR A MAYOR\n",
    "\n",
    "\"\"\"Y hasta aquí el tema de LISTAS\"\"\"\n"
   ]
  }
 ],
 "metadata": {
  "kernelspec": {
   "display_name": "Python 3",
   "language": "python",
   "name": "python3"
  },
  "language_info": {
   "codemirror_mode": {
    "name": "ipython",
    "version": 3
   },
   "file_extension": ".py",
   "mimetype": "text/x-python",
   "name": "python",
   "nbconvert_exporter": "python",
   "pygments_lexer": "ipython3",
   "version": "3.11.2"
  },
  "orig_nbformat": 4
 },
 "nbformat": 4,
 "nbformat_minor": 2
}
