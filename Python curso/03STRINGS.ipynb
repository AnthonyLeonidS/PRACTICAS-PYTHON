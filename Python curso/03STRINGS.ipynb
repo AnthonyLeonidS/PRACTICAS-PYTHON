{
 "cells": [
  {
   "cell_type": "code",
   "execution_count": 1,
   "metadata": {},
   "outputs": [
    {
     "name": "stdout",
     "output_type": "stream",
     "text": [
      "9\n",
      "14\n"
     ]
    }
   ],
   "source": [
    "###STRINGS##\n",
    "my_string=\"Mi string\"\n",
    "my_other_string=\"Mi otro string\"\n",
    "print(len(my_string)) #con len Vamos a contar el nº de caracteres que tiene \n",
    "print(len(my_other_string))"
   ]
  },
  {
   "cell_type": "code",
   "execution_count": 8,
   "metadata": {},
   "outputs": [
    {
     "name": "stdout",
     "output_type": "stream",
     "text": [
      "Mi string Mi otro string\n"
     ]
    }
   ],
   "source": [
    "print(my_string + \" \" + my_other_string)"
   ]
  },
  {
   "cell_type": "code",
   "execution_count": 13,
   "metadata": {},
   "outputs": [
    {
     "name": "stdout",
     "output_type": "stream",
     "text": [
      "Este es un String \n",
      " con salto de linea\n"
     ]
    }
   ],
   "source": [
    "#String con salto de linea ( caracter especial)\n",
    "my_new_line_string=\"Este es un String \\n con salto de linea\" \n",
    "print(my_new_line_string)"
   ]
  },
  {
   "cell_type": "code",
   "execution_count": 1,
   "metadata": {},
   "outputs": [
    {
     "name": "stdout",
     "output_type": "stream",
     "text": [
      "\tEste es un string con tabulación\n"
     ]
    }
   ],
   "source": [
    "#String con caracter especial 2\n",
    "my_tab_string=\"\\tEste es un string con tabulación\"\n",
    "print(my_tab_string)"
   ]
  },
  {
   "cell_type": "code",
   "execution_count": 3,
   "metadata": {},
   "outputs": [
    {
     "name": "stdout",
     "output_type": "stream",
     "text": [
      "\teste es un string \n",
      " escapado\n"
     ]
    }
   ],
   "source": [
    "#String con caracter especial 3\n",
    "my_escape_string=\"\\teste es un string \\n escapado\"\n",
    "print(my_escape_string)"
   ]
  },
  {
   "cell_type": "code",
   "execution_count": 6,
   "metadata": {},
   "outputs": [
    {
     "name": "stdout",
     "output_type": "stream",
     "text": [
      "\\teste es un string \\n escapado\n"
     ]
    }
   ],
   "source": [
    "my_escape_string=\"\\\\teste es un string \\\\n escapado\"\n",
    "print(my_escape_string)\n"
   ]
  },
  {
   "cell_type": "code",
   "execution_count": 2,
   "metadata": {},
   "outputs": [
    {
     "name": "stdout",
     "output_type": "stream",
     "text": [
      "Mi nombre es %s y mi edad es %s\n",
      "Mi nombre es %s y mi edad es %d\n"
     ]
    }
   ],
   "source": [
    "#FORMATEO DE STRINGS\n",
    "\n",
    "name,surname,age= \"Anthony\",\"Martinez\",25\n",
    "print(\"Mi nombre es %s y mi edad es %s\".format(name,surname,age))\n",
    "print(\"Mi nombre es %s y mi edad es %d\".format(name, surname, age))\n"
   ]
  },
  {
   "attachments": {},
   "cell_type": "markdown",
   "metadata": {},
   "source": [
    "#Lo mas adecuado para una persona que sabe del lenguaje es escribirlo asi:\n"
   ]
  },
  {
   "cell_type": "code",
   "execution_count": 4,
   "metadata": {},
   "outputs": [
    {
     "name": "stdout",
     "output_type": "stream",
     "text": [
      "Mi nombre es Anthony Martinez y mi edad es 25\n"
     ]
    }
   ],
   "source": [
    "name, surname, age = \"Anthony\",\"Martinez\", 25\n",
    "print(\"Mi nombre es {} {} y mi edad es {}\".format(name,surname,age))"
   ]
  },
  {
   "cell_type": "code",
   "execution_count": 1,
   "metadata": {},
   "outputs": [
    {
     "name": "stdout",
     "output_type": "stream",
     "text": [
      "Mi nombre es Anthony Martinez y mi edad es 25\n"
     ]
    }
   ],
   "source": [
    "#ESTA ES LA FORMA MENOS EFICIENTE PARA REALIZAR UN STRING \n",
    "name, surname, age = \" Anthony\",\"Martinez\", 25\n",
    "print(\"Mi nombre es\" + name + \" \" + surname + \" y mi edad es \" +str(age) )"
   ]
  },
  {
   "cell_type": "code",
   "execution_count": 2,
   "metadata": {},
   "outputs": [
    {
     "name": "stdout",
     "output_type": "stream",
     "text": [
      "Mi nombre es {name} {surname} y mi edad es {age}\n"
     ]
    }
   ],
   "source": [
    "#INFERENCIA DE DATOS(METIENDO LOS DATOS DENTRO )\n",
    "name, surname, age = \" Anthony\", \"Martinez\", 25\n",
    "print(\"Mi nombre es {name} {surname} y mi edad es {age}\")\n",
    "\n",
    "#No sirve porque le falta un caracter especial (f)\n"
   ]
  },
  {
   "cell_type": "code",
   "execution_count": 10,
   "metadata": {},
   "outputs": [
    {
     "name": "stdout",
     "output_type": "stream",
     "text": [
      "Mi nombre es Anthony Martinez y mi edad es 25\n",
      "Mi nombre es Olga Campoverde y mi edad es 48\n"
     ]
    }
   ],
   "source": [
    "name, surname, age = \"Anthony\", \"Martinez\", 25\n",
    "print(f\"Mi nombre es {name} {surname} y mi edad es {age}\")\n",
    "\n",
    "name,surname,age=\"Olga\",\"Campoverde\",48\n",
    "print(f\"Mi nombre es {name} {surname} y mi edad es {age}\")"
   ]
  },
  {
   "cell_type": "code",
   "execution_count": 2,
   "metadata": {},
   "outputs": [
    {
     "name": "stdout",
     "output_type": "stream",
     "text": [
      "P\n",
      "o\n",
      "G\n",
      "a\n"
     ]
    }
   ],
   "source": [
    "#DESEMPAQUETADO DE CARACTERES\n",
    "\n",
    "\"PRIMERO CREAMOS LA VARIABLE (language) \"\n",
    "language=\"Python\"\n",
    "a,b,c,d,e,f=language #aqui tenemos que añadir tantas variables como caracteres tenga a lo que se quiere igualar\n",
    "print(a)\n",
    "print(e)\n",
    "\"\"\"otro ejemplo\"\"\"\n",
    "language=\"Games\"\n",
    "a,b,c,d,e=language\n",
    "print(a)\n",
    "print(b)\n",
    "\n",
    "\n"
   ]
  },
  {
   "cell_type": "code",
   "execution_count": 3,
   "metadata": {},
   "outputs": [
    {
     "name": "stdout",
     "output_type": "stream",
     "text": [
      "Games\n",
      "am\n",
      "e\n",
      "m\n",
      "a\n",
      "m\n"
     ]
    }
   ],
   "source": [
    "# DIVISION\n",
    "\"Creamos variable\" \n",
    "language_slice = language[0:5]# el uso de[n:n] nos indica de donde a donde va\n",
    "print(language_slice)\n",
    "language_slice=language[1:3]\n",
    "print(language_slice)\n",
    "language_slice = language[-2]\n",
    "print(language_slice)\n",
    "language_slice = language[-3]\n",
    "print(language_slice)\n",
    "language_slice = language[1:3:5]\n",
    "print(language_slice)\n",
    "language_slice = language[2:3:5]\n",
    "print(language_slice)\n",
    "\n"
   ]
  },
  {
   "cell_type": "code",
   "execution_count": 4,
   "metadata": {},
   "outputs": [
    {
     "name": "stdout",
     "output_type": "stream",
     "text": [
      "semaG\n"
     ]
    }
   ],
   "source": [
    "#REVERSE\n",
    "reverse_language=language[::-1]\n",
    "print(reverse_language)\n"
   ]
  },
  {
   "cell_type": "code",
   "execution_count": 17,
   "metadata": {},
   "outputs": [
    {
     "name": "stdout",
     "output_type": "stream",
     "text": [
      "Games\n",
      "GAMES\n",
      "1\n",
      "0\n",
      "False\n",
      "True\n",
      "games\n",
      "True\n",
      "True\n",
      "True\n",
      "False\n"
     ]
    }
   ],
   "source": [
    "#FUNCIONES\n",
    "print(language.capitalize())\n",
    "print(language.upper())\n",
    "print(language.count(\"e\"))\n",
    "print(language.count(\"M\"))\n",
    "print(language.isnumeric())\n",
    "print(\"1\".isnumeric())\n",
    "print(language.lower())\n",
    "print(language.upper().isupper())#EXISTE\n",
    "print(language.lower().islower())#EXISTE\n",
    "\"print(language.reverse().isreverse())#no existe\"\n",
    "print(language.startswith(\"Ga\"))\n",
    "print(language.startswith(\"D\"))\n"
   ]
  },
  {
   "cell_type": "code",
   "execution_count": null,
   "metadata": {},
   "outputs": [],
   "source": [
    "\n"
   ]
  }
 ],
 "metadata": {
  "kernelspec": {
   "display_name": "Python 3",
   "language": "python",
   "name": "python3"
  },
  "language_info": {
   "codemirror_mode": {
    "name": "ipython",
    "version": 3
   },
   "file_extension": ".py",
   "mimetype": "text/x-python",
   "name": "python",
   "nbconvert_exporter": "python",
   "pygments_lexer": "ipython3",
   "version": "3.11.2"
  },
  "orig_nbformat": 4,
  "vscode": {
   "interpreter": {
    "hash": "dff2e0a9212f7db85cacc32f123ad1f4a5e0b42bd6e31a9f39ce8f307d53605f"
   }
  }
 },
 "nbformat": 4,
 "nbformat_minor": 2
}
