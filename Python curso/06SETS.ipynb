{
 "cells": [
  {
   "cell_type": "code",
   "execution_count": 1,
   "metadata": {},
   "outputs": [
    {
     "name": "stdout",
     "output_type": "stream",
     "text": [
      "<class 'set'>\n"
     ]
    }
   ],
   "source": [
    "### SETS###\n",
    "# TIENE UNA LISTA (Python no tiene Array como tal sino simplemente listas)\n",
    "# 1 creamos una lista con la funcion set()\n",
    "# CARACTERISTICAS: no es una estructura ordenada, no es subscriptable(es decir el objeto type no contiene elementos a los que puedas acceder con una posición),un set no acepta elementos repetidos,No es inmutable(es variable),\n",
    "\n",
    "my_set = set()\n",
    "print(type(my_set))\n"
   ]
  },
  {
   "cell_type": "code",
   "execution_count": 4,
   "metadata": {},
   "outputs": [
    {
     "name": "stdout",
     "output_type": "stream",
     "text": [
      "<class 'dict'>\n"
     ]
    }
   ],
   "source": [
    "my_other_set={}\n",
    "print(type(my_other_set))"
   ]
  },
  {
   "cell_type": "code",
   "execution_count": 8,
   "metadata": {},
   "outputs": [
    {
     "name": "stdout",
     "output_type": "stream",
     "text": [
      "<class 'set'>\n"
     ]
    }
   ],
   "source": [
    "my_other_set={\"Anthony\",\"Martinez\",25}\n",
    "print(type(my_other_set))"
   ]
  },
  {
   "cell_type": "code",
   "execution_count": 9,
   "metadata": {},
   "outputs": [
    {
     "name": "stdout",
     "output_type": "stream",
     "text": [
      "3\n"
     ]
    },
    {
     "ename": "TypeError",
     "evalue": "'set' object is not subscriptable",
     "output_type": "error",
     "traceback": [
      "\u001b[1;31m---------------------------------------------------------------------------\u001b[0m",
      "\u001b[1;31mTypeError\u001b[0m                                 Traceback (most recent call last)",
      "Cell \u001b[1;32mIn[9], line 2\u001b[0m\n\u001b[0;32m      1\u001b[0m \u001b[39mprint\u001b[39m(\u001b[39mlen\u001b[39m(my_other_set))\n\u001b[1;32m----> 2\u001b[0m \u001b[39mprint\u001b[39m(my_other_set[\u001b[39m0\u001b[39;49m])\u001b[39m#'set' object is not subscriptable\u001b[39;00m\n",
      "\u001b[1;31mTypeError\u001b[0m: 'set' object is not subscriptable"
     ]
    }
   ],
   "source": [
    "print(len(my_other_set))\n",
    "print(my_other_set[0])#'set' object is not subscriptable"
   ]
  },
  {
   "cell_type": "code",
   "execution_count": 10,
   "metadata": {},
   "outputs": [
    {
     "name": "stdout",
     "output_type": "stream",
     "text": [
      "{'Martinez', 'Campoverde', 'Anthony', 25}\n",
      "{'Martinez', 'Campoverde', 'Anthony', 25}\n"
     ]
    }
   ],
   "source": [
    "my_other_set.add(\"Campoverde\")\n",
    "print(my_other_set)#observamos que imprime lo que hemos añadido pero no de forma ordenada por lo tanto no es una estructura ordenada\n",
    "my_other_set.add(\"Campoverde\")\n",
    "print(my_other_set)#un set no acepta elementos repetidos \n"
   ]
  },
  {
   "cell_type": "code",
   "execution_count": 11,
   "metadata": {},
   "outputs": [
    {
     "name": "stdout",
     "output_type": "stream",
     "text": [
      "True\n",
      "True\n",
      "False\n"
     ]
    }
   ],
   "source": [
    "print(\"Anthony\" in my_other_set)\n",
    "print(\"Campoverde\" in my_other_set)\n",
    "print(\"junior\" in my_other_set)\n"
   ]
  },
  {
   "cell_type": "code",
   "execution_count": 12,
   "metadata": {},
   "outputs": [
    {
     "name": "stdout",
     "output_type": "stream",
     "text": [
      "{'Martinez', 'Campoverde', 25}\n"
     ]
    }
   ],
   "source": [
    "#ELIMINAR ELEMENTO DEL SET(.remove)\n",
    "my_other_set.remove(\"Anthony\")\n",
    "print(my_other_set)"
   ]
  },
  {
   "cell_type": "code",
   "execution_count": 14,
   "metadata": {},
   "outputs": [
    {
     "name": "stdout",
     "output_type": "stream",
     "text": [
      "0\n"
     ]
    },
    {
     "ename": "NameError",
     "evalue": "name 'my_other_set' is not defined",
     "output_type": "error",
     "traceback": [
      "\u001b[1;31m---------------------------------------------------------------------------\u001b[0m",
      "\u001b[1;31mNameError\u001b[0m                                 Traceback (most recent call last)",
      "Cell \u001b[1;32mIn[14], line 4\u001b[0m\n\u001b[0;32m      2\u001b[0m \u001b[39mprint\u001b[39m(\u001b[39mlen\u001b[39m(my_other_set))\n\u001b[0;32m      3\u001b[0m \u001b[39mdel\u001b[39;00m my_other_set\n\u001b[1;32m----> 4\u001b[0m \u001b[39mprint\u001b[39m(my_other_set)\n",
      "\u001b[1;31mNameError\u001b[0m: name 'my_other_set' is not defined"
     ]
    }
   ],
   "source": [
    "my_other_set.clear()\n",
    "print(len(my_other_set))\n",
    "del my_other_set\n",
    "print(my_other_set)#el del es capaz de eliminar totalemente la propiedad\n"
   ]
  },
  {
   "cell_type": "code",
   "execution_count": 3,
   "metadata": {},
   "outputs": [
    {
     "name": "stdout",
     "output_type": "stream",
     "text": [
      "[25, 'Martinez', 'Anthony']\n",
      "<class 'list'>\n",
      "25\n"
     ]
    }
   ],
   "source": [
    "#EJERCICIO VAMOS A TRANSFORMAR UN SET A UNA LISTA\n",
    "my_set={\"Anthony\",\"Martinez\",25}\n",
    "my_list=list(my_set)\n",
    "print(my_list)\n",
    "print(type(my_list))\n",
    "print(my_list[0])\n"
   ]
  },
  {
   "cell_type": "code",
   "execution_count": 11,
   "metadata": {},
   "outputs": [
    {
     "name": "stdout",
     "output_type": "stream",
     "text": [
      "{'Kotlin', 'Python', 25, 'Martinez', 'Java', 'Anthony'}\n",
      "{'Kotlin', 'Python', 'JavaScript', 25, 'Martinez', 'Java', 'Anthony', 'C#'}\n"
     ]
    }
   ],
   "source": [
    "#.union \n",
    "my_other_set={\"Java\",\"Kotlin\",\"Python\"}\n",
    "my_new_set=my_set.union(my_other_set)\n",
    "print(my_new_set)\n",
    "print(my_new_set.union(my_new_set).union(my_set).union({\"JavaScript\",\"C#\"}))"
   ]
  },
  {
   "cell_type": "code",
   "execution_count": 19,
   "metadata": {},
   "outputs": [
    {
     "name": "stdout",
     "output_type": "stream",
     "text": [
      "{'Kotlin', 'Java', 'Python'}\n",
      "{'Kotlin', 'Python', 25, 'Martinez', 'Java', 'Anthony'}\n",
      "{'Java', 'Kotlin', 'Python'}\n"
     ]
    }
   ],
   "source": [
    "print(my_new_set.difference(my_set)) #nos indica cuales son los datos de la primera variable para diferenciarlos de la segunda variable-\n",
    "print(my_new_set)\n",
    "\n",
    "##FIN"
   ]
  }
 ],
 "metadata": {
  "kernelspec": {
   "display_name": "Python 3",
   "language": "python",
   "name": "python3"
  },
  "language_info": {
   "codemirror_mode": {
    "name": "ipython",
    "version": 3
   },
   "file_extension": ".py",
   "mimetype": "text/x-python",
   "name": "python",
   "nbconvert_exporter": "python",
   "pygments_lexer": "ipython3",
   "version": "3.11.2"
  },
  "orig_nbformat": 4
 },
 "nbformat": 4,
 "nbformat_minor": 2
}
