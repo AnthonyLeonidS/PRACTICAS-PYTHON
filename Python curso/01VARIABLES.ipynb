{
 "cells": [
  {
   "cell_type": "code",
   "execution_count": 1,
   "metadata": {},
   "outputs": [
    {
     "name": "stdout",
     "output_type": "stream",
     "text": [
      "My string variable\n"
     ]
    }
   ],
   "source": [
    "###VARIABLES###\n",
    "my_variable=\"My string variable\"\n",
    "print(my_variable)\n"
   ]
  },
  {
   "cell_type": "code",
   "execution_count": 2,
   "metadata": {},
   "outputs": [
    {
     "name": "stdout",
     "output_type": "stream",
     "text": [
      "my string variable\n"
     ]
    }
   ],
   "source": [
    "#SERIA MAS CORRECTO ESCRIBIRLO ASI:\n",
    "\n",
    "my_variable = \"my string variable\"\n",
    "print(my_variable)\n"
   ]
  },
  {
   "cell_type": "code",
   "execution_count": 1,
   "metadata": {},
   "outputs": [
    {
     "name": "stdout",
     "output_type": "stream",
     "text": [
      "my string variable\n",
      "45\n",
      "False\n",
      "True\n",
      "(2+3j)\n",
      "my string variable False True\n"
     ]
    }
   ],
   "source": [
    "# por convención es mejor usar barrabaja para escribir una variable\n",
    "my_variable = \"my string variable\"\n",
    "print(my_variable)\n",
    "\n",
    "my_int_variable = 45\n",
    "print(my_int_variable)\n",
    "\n",
    "my_bool_variable = False\n",
    "print(my_bool_variable)\n",
    "\n",
    "my_bool_variable2=True\n",
    "print(my_bool_variable2)\n",
    "my_complex_variable=(2+3j)\n",
    "print(my_complex_variable)\n",
    "\n",
    "\n",
    "print(my_variable, my_bool_variable,my_bool_variable2)\n"
   ]
  },
  {
   "cell_type": "code",
   "execution_count": 5,
   "metadata": {},
   "outputs": [
    {
     "name": "stdout",
     "output_type": "stream",
     "text": [
      "my string variable False True 5\n"
     ]
    }
   ],
   "source": [
    "#PRINT PUEDE USAR VARIOS ARGUMENTOS \n",
    "#mejor dicho CONCATENACION DE VARIABLES en un print:\n",
    "print(my_variable, my_bool_variable,my_bool_variable2,my_complex_variable)\n"
   ]
  },
  {
   "cell_type": "code",
   "execution_count": 10,
   "metadata": {},
   "outputs": [
    {
     "name": "stdout",
     "output_type": "stream",
     "text": [
      "my string variable\n",
      "<class 'str'>\n"
     ]
    }
   ],
   "source": [
    "my_int_to_str_variable=my_variable\n",
    "print(my_int_to_str_variable)\n",
    "print(type(my_int_to_str_variable)) #TYPE para saber el tipo de dato"
   ]
  },
  {
   "cell_type": "code",
   "execution_count": 4,
   "metadata": {},
   "outputs": [
    {
     "name": "stdout",
     "output_type": "stream",
     "text": [
      "45\n",
      "False\n",
      "<class 'str'>\n",
      "<class 'NoneType'>\n"
     ]
    }
   ],
   "source": [
    "my_int_variable = 45\n",
    "print(my_int_variable)\n",
    "my_bool_variable =False\n",
    "print(my_bool_variable)\n",
    "my_int_to_str_variable=\"repaso\"\n",
    "print(type(print(type(my_int_to_str_variable))))  # tipo NoneType\n",
    "\n"
   ]
  },
  {
   "cell_type": "code",
   "execution_count": 11,
   "metadata": {},
   "outputs": [
    {
     "name": "stdout",
     "output_type": "stream",
     "text": [
      "18\n"
     ]
    }
   ],
   "source": [
    "#algunas funciones del sistema (len()) \n",
    "print(len(my_int_to_str_variable))"
   ]
  },
  {
   "cell_type": "code",
   "execution_count": 12,
   "metadata": {},
   "outputs": [
    {
     "name": "stdout",
     "output_type": "stream",
     "text": [
      "este es el valor de: False\n"
     ]
    }
   ],
   "source": [
    "print(\"este es el valor de:\",my_bool_variable)"
   ]
  },
  {
   "cell_type": "code",
   "execution_count": 17,
   "metadata": {},
   "outputs": [
    {
     "name": "stdout",
     "output_type": "stream",
     "text": [
      "Me llamo Anthony Martinez mi alias es: Giggo, de edad 35\n"
     ]
    }
   ],
   "source": [
    "#Variables en una sola linea(¡cuidado con abusar de ésta sintaxis!)\n",
    "name,surname, alias, age= \"Anthony\",\"Martinez\",\"Giggo,\",35  \n",
    "print(\"Me llamo\",name,surname,\"mi alias es:\",alias,\"de edad\",age)"
   ]
  },
  {
   "cell_type": "code",
   "execution_count": 19,
   "metadata": {},
   "outputs": [
    {
     "name": "stdout",
     "output_type": "stream",
     "text": [
      "Anthony\n",
      "25 años\n"
     ]
    }
   ],
   "source": [
    "# Función Input\n",
    "name = input(\"¿Cual es tu nombre?\")\n",
    "age = input(\"¿Cuantos años tienes?\")\n",
    "print(name)\n",
    "print(age)\n",
    "\n"
   ]
  },
  {
   "cell_type": "code",
   "execution_count": null,
   "metadata": {},
   "outputs": [],
   "source": [
    "fecha=input(\"¿ Que dia es tu cumpleaños?\")\n"
   ]
  },
  {
   "cell_type": "code",
   "execution_count": 20,
   "metadata": {},
   "outputs": [
    {
     "name": "stdout",
     "output_type": "stream",
     "text": [
      "35\n",
      "Anthony\n"
     ]
    }
   ],
   "source": [
    "# cambiamos su tipo\n",
    "name = 35\n",
    "age = \"Anthony\"\n",
    "print(name)\n",
    "print(age)\n"
   ]
  },
  {
   "cell_type": "code",
   "execution_count": 23,
   "metadata": {},
   "outputs": [
    {
     "name": "stdout",
     "output_type": "stream",
     "text": [
      "32\n",
      "<class 'int'>\n"
     ]
    }
   ],
   "source": [
    "#Forzamos su tipo\n",
    "address: str = \"Mi dirección\"\n",
    "address = 32\n",
    "print(address)\n",
    "print(type(address))\n"
   ]
  }
 ],
 "metadata": {
  "kernelspec": {
   "display_name": "Python 3",
   "language": "python",
   "name": "python3"
  },
  "language_info": {
   "codemirror_mode": {
    "name": "ipython",
    "version": 3
   },
   "file_extension": ".py",
   "mimetype": "text/x-python",
   "name": "python",
   "nbconvert_exporter": "python",
   "pygments_lexer": "ipython3",
   "version": "3.11.2"
  },
  "orig_nbformat": 4,
  "vscode": {
   "interpreter": {
    "hash": "dff2e0a9212f7db85cacc32f123ad1f4a5e0b42bd6e31a9f39ce8f307d53605f"
   }
  }
 },
 "nbformat": 4,
 "nbformat_minor": 2
}
