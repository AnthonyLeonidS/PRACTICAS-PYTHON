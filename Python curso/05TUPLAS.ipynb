{
 "cells": [
  {
   "cell_type": "code",
   "execution_count": 2,
   "metadata": {},
   "outputs": [
    {
     "name": "stdout",
     "output_type": "stream",
     "text": [
      "<class 'list'>\n",
      "(25, 1.74, 'Anthony', 'Martinez', 25)\n",
      "<class 'tuple'>\n",
      "25\n",
      "25\n",
      "Martinez\n",
      "25\n"
     ]
    }
   ],
   "source": [
    "###TUPLES###\n",
    "#¿QUÉ ES UNA TUPLA?#\n",
    "my_tuple=tuple()\n",
    "my_other_tuple=[]\n",
    "print(type(my_other_tuple)) #class list\n",
    "\n",
    "my_tuple=(25,1.74,\"Anthony\",\"Martinez\",25)\n",
    "print(my_tuple)\n",
    "print(type(my_tuple))\n",
    "print(my_tuple[0])\n",
    "print(my_tuple[-1])\n",
    "print(my_tuple[-2])\n",
    "print(my_tuple[-5])\n",
    "\n",
    "\n"
   ]
  },
  {
   "cell_type": "code",
   "execution_count": 11,
   "metadata": {},
   "outputs": [
    {
     "name": "stdout",
     "output_type": "stream",
     "text": [
      "1\n",
      "2\n",
      "2\n",
      "3\n",
      "1\n"
     ]
    }
   ],
   "source": [
    "print(my_tuple.count(\"Anthony\"))\n",
    "print(my_tuple.count(25))\n",
    "print(my_tuple.index(\"Anthony\"))\n",
    "print(my_tuple.index(\"Martinez\"))\n",
    "print(my_tuple.index(1.74))\n"
   ]
  },
  {
   "cell_type": "code",
   "execution_count": 3,
   "metadata": {},
   "outputs": [
    {
     "name": "stdout",
     "output_type": "stream",
     "text": [
      "(25, 1.74, 'Anthony', 'Martinez', 25)\n"
     ]
    }
   ],
   "source": [
    "#LAS TUPLAS NO ACEPTAN VARIABLES\n",
    "#my_tuple[1]=1.85 no acepta las variables,ES DECIR SON VALORES CONSTANTES\n",
    "print(my_tuple)"
   ]
  },
  {
   "cell_type": "code",
   "execution_count": 4,
   "metadata": {},
   "outputs": [
    {
     "name": "stdout",
     "output_type": "stream",
     "text": [
      "(25, 1.74, 'Anthony', 'Martinez', 25, 1, 2, 333)\n",
      "(25, 1.74, 'Anthony', 'Martinez', 25, 1, 2, 333)\n",
      "('Martinez', 25, 1)\n"
     ]
    }
   ],
   "source": [
    "my_other_tuple=(1,2,333)\n",
    "print(my_tuple + my_other_tuple)\n",
    "my_sum_tuple=my_tuple + my_other_tuple\n",
    "print(my_sum_tuple)\n",
    "## name error   print(my_sum_tuple[3,1])\n",
    "print(my_sum_tuple[3:6])\n",
    "\n",
    "\n"
   ]
  },
  {
   "cell_type": "code",
   "execution_count": 6,
   "metadata": {},
   "outputs": [
    {
     "name": "stdout",
     "output_type": "stream",
     "text": [
      "<class 'list'>\n",
      "(12, 'Imane', 'Gato')\n",
      "<class 'tuple'>\n",
      "<class 'list'>\n"
     ]
    }
   ],
   "source": [
    "#CONVERTIR UNA TUPLA A UNA LISTA\n",
    "my_tuple=list(my_tuple)\n",
    "print(type(my_tuple))\n",
    "my_tuple_x=(12,\"Imane\",\"Gato\")\n",
    "print(my_tuple_x)\n",
    "print(type(my_tuple_x))\n",
    "\n",
    "my_tuple_x=list(my_tuple_x)\n",
    "print(type(my_tuple_x))"
   ]
  },
  {
   "cell_type": "code",
   "execution_count": 7,
   "metadata": {},
   "outputs": [
    {
     "ename": "ValueError",
     "evalue": "list.remove(x): x not in list",
     "output_type": "error",
     "traceback": [
      "\u001b[1;31m---------------------------------------------------------------------------\u001b[0m",
      "\u001b[1;31mValueError\u001b[0m                                Traceback (most recent call last)",
      "Cell \u001b[1;32mIn[7], line 8\u001b[0m\n\u001b[0;32m      1\u001b[0m \u001b[39m#my_tuple[1]=\"TonyPantera\"\u001b[39;00m\n\u001b[0;32m      2\u001b[0m \u001b[39m#my_tuple.insert(1,\"Azul\")\u001b[39;00m\n\u001b[0;32m      3\u001b[0m \u001b[39m#print(tuple(my_tuple))\u001b[39;00m\n\u001b[0;32m      4\u001b[0m \u001b[39m#my_tuple[0]=23\u001b[39;00m\n\u001b[0;32m      5\u001b[0m \u001b[39m#my_tuple.insert(4,\"CONSTANCIA\")\u001b[39;00m\n\u001b[0;32m      6\u001b[0m \u001b[39m#print(my_tuple)\u001b[39;00m\n\u001b[1;32m----> 8\u001b[0m my_tuple\u001b[39m.\u001b[39;49mremove(\u001b[39m\"\u001b[39;49m\u001b[39mCONSTANCIA\u001b[39;49m\u001b[39m\"\u001b[39;49m)\n\u001b[0;32m      9\u001b[0m \u001b[39mprint\u001b[39m(my_tuple)\n",
      "\u001b[1;31mValueError\u001b[0m: list.remove(x): x not in list"
     ]
    }
   ],
   "source": [
    "\n",
    "#my_tuple[1]=\"TonyPantera\"\n",
    "#my_tuple.insert(1,\"Azul\")\n",
    "#print(tuple(my_tuple))\n",
    "#my_tuple[0]=23\n",
    "#my_tuple.insert(4,\"CONSTANCIA\")\n",
    "#print(my_tuple)\n",
    "\n",
    "my_tuple.remove(\"CONSTANCIA\")\n",
    "print(my_tuple)"
   ]
  },
  {
   "cell_type": "code",
   "execution_count": 9,
   "metadata": {},
   "outputs": [
    {
     "ename": "NameError",
     "evalue": "name 'my_tuple' is not defined",
     "output_type": "error",
     "traceback": [
      "\u001b[1;31m---------------------------------------------------------------------------\u001b[0m",
      "\u001b[1;31mNameError\u001b[0m                                 Traceback (most recent call last)",
      "Cell \u001b[1;32mIn[9], line 1\u001b[0m\n\u001b[1;32m----> 1\u001b[0m \u001b[39mdel\u001b[39;00m my_tuple\n\u001b[0;32m      2\u001b[0m \u001b[39m# print(my_tuple) NameError: name 'my_tuple' is not defined\u001b[39;00m\n",
      "\u001b[1;31mNameError\u001b[0m: name 'my_tuple' is not defined"
     ]
    }
   ],
   "source": [
    "del my_tuple\n",
    "# print(my_tuple) NameError: name 'my_tuple' is not defined\n"
   ]
  },
  {
   "cell_type": "code",
   "execution_count": 11,
   "metadata": {},
   "outputs": [
    {
     "ename": "NameError",
     "evalue": "name 'my_tuple' is not defined",
     "output_type": "error",
     "traceback": [
      "\u001b[1;31m---------------------------------------------------------------------------\u001b[0m",
      "\u001b[1;31mNameError\u001b[0m                                 Traceback (most recent call last)",
      "Cell \u001b[1;32mIn[11], line 1\u001b[0m\n\u001b[1;32m----> 1\u001b[0m \u001b[39mdel\u001b[39;00m my_tuple[\u001b[39m2\u001b[39m]\n",
      "\u001b[1;31mNameError\u001b[0m: name 'my_tuple' is not defined"
     ]
    }
   ],
   "source": [
    "\n",
    "# del my_tuple[2] NameError: name 'my_tuple' is not defined\n",
    "\n",
    "###FIN###"
   ]
  }
 ],
 "metadata": {
  "kernelspec": {
   "display_name": "Python 3",
   "language": "python",
   "name": "python3"
  },
  "language_info": {
   "codemirror_mode": {
    "name": "ipython",
    "version": 3
   },
   "file_extension": ".py",
   "mimetype": "text/x-python",
   "name": "python",
   "nbconvert_exporter": "python",
   "pygments_lexer": "ipython3",
   "version": "3.11.2"
  },
  "orig_nbformat": 4
 },
 "nbformat": 4,
 "nbformat_minor": 2
}
