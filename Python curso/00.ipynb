{
 "cells": [
  {
   "cell_type": "code",
   "execution_count": 1,
   "metadata": {},
   "outputs": [
    {
     "name": "stdout",
     "output_type": "stream",
     "text": [
      "hola reina\n"
     ]
    }
   ],
   "source": [
    "print(\"hola reina\")"
   ]
  },
  {
   "cell_type": "code",
   "execution_count": 1,
   "metadata": {},
   "outputs": [
    {
     "name": "stdout",
     "output_type": "stream",
     "text": [
      "148\n"
     ]
    }
   ],
   "source": [
    "n1=23\n",
    "n2=122\n",
    "n3=3\n",
    "suma=n1+n2+n3\n",
    "print(suma)"
   ]
  },
  {
   "cell_type": "code",
   "execution_count": 7,
   "metadata": {},
   "outputs": [
    {
     "name": "stdout",
     "output_type": "stream",
     "text": [
      "<class 'str'>\n",
      "<class 'int'>\n",
      "<class 'float'>\n",
      "<class 'bool'>\n",
      "<class 'complex'>\n"
     ]
    }
   ],
   "source": [
    "#CONSULTAR TIPO DE DATOS (función Type)\n",
    "print(type(\"hola\")) #tipo srt\n",
    "print(type(1)) #tipo int\n",
    "print(type(1.5)) #tipo float \n",
    "print(type(True)) #tipo bool\n",
    "print(type(1+2j+3j)) #tipo complex\n",
    " "
   ]
  },
  {
   "cell_type": "code",
   "execution_count": 12,
   "metadata": {},
   "outputs": [
    {
     "name": "stdout",
     "output_type": "stream",
     "text": [
      "1.5\n",
      "9\n",
      "6\n"
     ]
    }
   ],
   "source": [
    "#challenge \n",
    "n1=3\n",
    "n2=2\n",
    "division=n1/n2\n",
    "potencia=n1**n2\n",
    "multiplicacion=n1*n2\n",
    "print(division)\n",
    "print(potencia)\n",
    "print(multiplicacion)\n"
   ]
  },
  {
   "cell_type": "code",
   "execution_count": 1,
   "metadata": {},
   "outputs": [
    {
     "name": "stdout",
     "output_type": "stream",
     "text": [
      "<class 'str'>\n",
      "<class 'NoneType'>\n"
     ]
    }
   ],
   "source": [
    "my_variable = \"my string variable\"\n",
    "my_int_variable = 45\n",
    "my_bool_variable = False\n",
    "my_int_to_str_variable = my_variable\n",
    "print(type(print(type(my_int_to_str_variable))))  # tipo NoneType\n"
   ]
  }
 ],
 "metadata": {
  "kernelspec": {
   "display_name": "Python 3",
   "language": "python",
   "name": "python3"
  },
  "language_info": {
   "codemirror_mode": {
    "name": "ipython",
    "version": 3
   },
   "file_extension": ".py",
   "mimetype": "text/x-python",
   "name": "python",
   "nbconvert_exporter": "python",
   "pygments_lexer": "ipython3",
   "version": "3.11.2"
  },
  "orig_nbformat": 4,
  "vscode": {
   "interpreter": {
    "hash": "dff2e0a9212f7db85cacc32f123ad1f4a5e0b42bd6e31a9f39ce8f307d53605f"
   }
  }
 },
 "nbformat": 4,
 "nbformat_minor": 2
}
