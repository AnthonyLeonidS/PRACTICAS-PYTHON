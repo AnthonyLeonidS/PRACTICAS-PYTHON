{
 "cells": [
  {
   "cell_type": "code",
   "execution_count": 2,
   "metadata": {},
   "outputs": [
    {
     "name": "stdout",
     "output_type": "stream",
     "text": [
      "<class 'dict'>\n",
      "<class 'dict'>\n"
     ]
    }
   ],
   "source": [
    "###DICTS###\n",
    "\n",
    "my_dict=dict()\n",
    "print(type(my_dict))#<class 'dict'>\n",
    "my_other_dict={}\n",
    "print(type(my_other_dict)) #< class 'dict' >\n",
    "\n"
   ]
  },
  {
   "cell_type": "code",
   "execution_count": 4,
   "metadata": {},
   "outputs": [
    {
     "name": "stdout",
     "output_type": "stream",
     "text": [
      "<class 'set'>\n",
      "{'Nombre': 'Anthony', 'Apellido': 'Martinez', 'edad': 25}\n",
      "{'Nombre': 'Anthony', 'Apellido': 'Martinez', 'edad': 25, 1: 'Python'}\n"
     ]
    }
   ],
   "source": [
    "my_other_dict={\"Anthony\",\"Martinez\"}\n",
    "print(type(my_other_dict))\n",
    "\n",
    "my_other_dict ={\"Nombre\":\"Anthony\",\"Apellido\":\"Martinez\",\"edad\":25}\n",
    "print(my_other_dict)\n",
    "\n",
    "my_other_dict ={\"Nombre\":\"Anthony\",\"Apellido\":\"Martinez\",\"edad\":25,1:\"Python\"}\n",
    "print(my_other_dict)\n"
   ]
  },
  {
   "cell_type": "code",
   "execution_count": 3,
   "metadata": {},
   "outputs": [
    {
     "name": "stdout",
     "output_type": "stream",
     "text": [
      "{'Nombre': 'Anthony', 'Apellido': 'Martinez', 'edad': 25, 'Lenguajes': {'Kotlin', 'Java', 'Python'}, 1: 1.74}\n"
     ]
    }
   ],
   "source": [
    "my_dict = {\n",
    "    \"Nombre\": \"Anthony\",\n",
    "    \"Apellido\": \"Martinez\",\n",
    "    \"edad\": 25,\n",
    "    \"Lenguajes\":{\"Python\",\"Kotlin\",\"Java\"},\n",
    "    \n",
    "    1:1.74\n",
    "    }\n",
    "print(my_dict)\n",
    "\n",
    "\n"
   ]
  },
  {
   "cell_type": "code",
   "execution_count": 16,
   "metadata": {},
   "outputs": [
    {
     "name": "stdout",
     "output_type": "stream",
     "text": [
      "4\n",
      "Anthony\n",
      "Campoverde\n",
      "Campoverde\n",
      "1.74\n",
      "{'Nombre': 'Anthony', 'Apellido': 'Campoverde', 'edad': 25, 'Lenguajes': {'Kotlin', 'Java', 'Python'}, 1: 1.74, 'Calle': 'Calle TonyLover', 'Jr': 'jibril'}\n",
      "{'Nombre': 'Anthony', 'Apellido': 'Campoverde', 'edad': 25, 'Lenguajes': {'Kotlin', 'Java', 'Python'}, 1: 1.74, 'Calle': 'Calle TonyLover', 'Jr': 'jibril'}\n"
     ]
    }
   ],
   "source": [
    "#my_other_dict ={\"Nombre\":\"Anthony\",\"Apellido\":\"Martinez\",\"edad\":25,1:\"Python\"}\n",
    "print(len(my_other_dict))\n",
    "\n",
    "print(my_dict[\"Nombre\"])\n",
    "print(my_dict[\"Apellido\"])\n",
    "my_dict[\"Apellido\"]=\"Campoverde\"\n",
    "print(my_dict[\"Apellido\"])\n",
    "print(my_dict[1])\n",
    "\n",
    "my_dict[\"Calle\"]=\"Calle TonyLover\"\n",
    "print(my_dict)\n",
    "my_dict[\"Jr\"]=\"jibril\"\n",
    "print(my_dict)\n"
   ]
  },
  {
   "cell_type": "code",
   "execution_count": 18,
   "metadata": {},
   "outputs": [
    {
     "name": "stdout",
     "output_type": "stream",
     "text": [
      "{'Nombre': 'Anthony', 'Apellido': 'Campoverde', 'edad': 25, 'Lenguajes': {'Kotlin', 'Java', 'Python'}, 1: 1.74, 'Jr': 'jibril'}\n"
     ]
    }
   ],
   "source": [
    "del my_dict[\"Calle\"]\n",
    "print(my_dict)\n"
   ]
  },
  {
   "cell_type": "code",
   "execution_count": 20,
   "metadata": {},
   "outputs": [
    {
     "name": "stdout",
     "output_type": "stream",
     "text": [
      "False\n",
      "False\n",
      "True\n",
      "True\n"
     ]
    }
   ],
   "source": [
    "#PARA COMPROBAR SI EXISTE UN DATO EN UN DICCIONARIO\n",
    "print(\"Anthony\" in my_dict)\n",
    "print(\"jibril\" in my_dict)\n",
    "\n",
    "print(\"Nombre\" in my_dict)\n",
    "print(\"Jr\" in my_dict)\n",
    "\n",
    "\n"
   ]
  }
 ],
 "metadata": {
  "kernelspec": {
   "display_name": "Python 3",
   "language": "python",
   "name": "python3"
  },
  "language_info": {
   "codemirror_mode": {
    "name": "ipython",
    "version": 3
   },
   "file_extension": ".py",
   "mimetype": "text/x-python",
   "name": "python",
   "nbconvert_exporter": "python",
   "pygments_lexer": "ipython3",
   "version": "3.11.2"
  },
  "orig_nbformat": 4
 },
 "nbformat": 4,
 "nbformat_minor": 2
}
