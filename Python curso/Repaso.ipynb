{
 "cells": [
  {
   "cell_type": "code",
   "execution_count": 1,
   "metadata": {},
   "outputs": [
    {
     "name": "stdout",
     "output_type": "stream",
     "text": [
      "Pomodoro está barato\n",
      "20\n",
      "No me gustan las tempuras\n",
      "No me gustan las tempuras\n",
      "Este es el valor de: False Pomodoro está barato No me gustan las tempuras\n",
      "True\n",
      "True\n",
      "True\n",
      "False\n",
      "True\n",
      "True\n",
      "True\n",
      "False\n",
      "True\n",
      "True\n",
      "False\n",
      "True\n",
      "Mi nombre es Antonio Martinez y mi edad es 54\n",
      "Mi nombre es Anthony Martinez y mi edad es 25\n",
      "Mi nombre es Anthony Martinez y mi edad es 25\n",
      "Mi nombre es Olga Campoverde y mi edad es 48\n",
      "Me llamo Olga Campoverde y tengo 48\n"
     ]
    }
   ],
   "source": [
    "my_variable = \"Pomodoro está barato\"\n",
    "print(my_variable)\n",
    "\n",
    "print(len(my_variable))\n",
    "\n",
    "my_into_to_str_variable = \"No me gustan las tempuras\"\n",
    "print(my_into_to_str_variable)\n",
    "\n",
    "print(my_into_to_str_variable)\n",
    "\n",
    "my_bool_variable = False\n",
    "print(\"Este es el valor de:\", my_bool_variable,\n",
    "      my_variable, my_into_to_str_variable)\n",
    "# Operadores\n",
    "\n",
    "print(5 != 7)\n",
    "print(3 < 4)\n",
    "print(4 == 4)\n",
    "print(3 >= 4)\n",
    "\n",
    "print(3 != 4)\n",
    "\n",
    "print(\"Hola\" > \"HOLA\")\n",
    "print(\"HOLA\" == \"HOLA\")\n",
    "print(\"HOLA\" > \"hola\")\n",
    "\n",
    "# Operadores lógicos\n",
    "\n",
    "print(3 >= 3)\n",
    "print(not (3 > 3))\n",
    "print(3 < 3)\n",
    "print(not (3 < 3))\n",
    "\n",
    "# 03STRINGS\n",
    "\"FORMATEAR STRINGS\"\n",
    "\n",
    "name, surname, age = \"Antonio\", \"Martinez\", 54\n",
    "print(\"Mi nombre es {} {} y mi edad es {}\".format(name, surname, age))\n",
    "\n",
    "name, surname, age = \"Anthony\", \"Martinez\", 25\n",
    "print(\"Mi nombre es {} {} y mi edad es {}\".format(name, surname, age))\n",
    "\"la forma menos optima,menos recomendada y mas complicada seria asi:\"\n",
    "print(\"Mi nombre es \" + name + \" \" + surname + \" y mi edad es \" + str(age))\n",
    "\"usamos un str para concatenar la variable (age) que tiene un valor de numerico y se necesita hacer la transformación para que funcione\"\n",
    "\n",
    "# REPASO DEL APARTADO 03 STRINGS\n",
    "\n",
    "name, surname, age = \"Olga\", \"Campoverde\", 48\n",
    "print(\"Mi nombre es {} {} y mi edad es {}\".format(name, surname, age))\n",
    "name, surname, age = \"Olga\", \"Campoverde\", 48\n",
    "print(\"Me llamo {} {} y tengo {}\".format(name, surname, age))\n"
   ]
  },
  {
   "cell_type": "code",
   "execution_count": 2,
   "metadata": {},
   "outputs": [
    {
     "name": "stdout",
     "output_type": "stream",
     "text": [
      "Mi nombre es Anthony Martinez y mi edad es 25\n",
      "Mi nombre es Paloma Martinez Martinez y tengo 13 \n",
      "Mi nombre es Imane Abdeslami y mi edad es 23\n"
     ]
    }
   ],
   "source": [
    "#INFERENCIA DE DATOS\n",
    "\n",
    "name,surname,age=\"Anthony\",\"Martinez\",25\n",
    "print(f\"Mi nombre es {name} {surname} y mi edad es {age}\")\n",
    "name,surname,surname2,age=\"Paloma\",\"Martinez\", \"Campoverde\",13\n",
    "print(f\"Mi nombre es {name} {surname} {surname} y tengo {age} \")\n",
    "name,surname,age=\"Imane\",\"Abdeslami\", 23\n",
    "print(f\"Mi nombre es {name} {surname} y mi edad es {age}\")"
   ]
  },
  {
   "cell_type": "code",
   "execution_count": 3,
   "metadata": {},
   "outputs": [
    {
     "name": "stdout",
     "output_type": "stream",
     "text": [
      "P\n",
      "A\n",
      "R\n"
     ]
    }
   ],
   "source": [
    "#Desempaquetado de Caracteres \n",
    "\"creamos la variable (language)\"\n",
    "language=\"PERSEVERANCIA\"\n",
    "a,b,c,d,e,f,g,h,i,j,k,l,m=language\n",
    "print(a)\n",
    "print(m)\n",
    "print(c)\n",
    "\n"
   ]
  },
  {
   "cell_type": "code",
   "execution_count": 4,
   "metadata": {},
   "outputs": [
    {
     "name": "stdout",
     "output_type": "stream",
     "text": [
      "ERSEVERANCIA\n",
      "PERSEVERANCIA\n"
     ]
    }
   ],
   "source": [
    "#Division\n",
    "language_slice=language[1:13]\n",
    "print(language_slice)\n",
    "language_slice = language[0:13]\n",
    "print(language_slice)\n",
    "\n"
   ]
  },
  {
   "cell_type": "code",
   "execution_count": 5,
   "metadata": {},
   "outputs": [
    {
     "name": "stdout",
     "output_type": "stream",
     "text": [
      "P\n",
      "A\n",
      "PERSEV\n",
      "PV\n",
      "PA\n"
     ]
    }
   ],
   "source": [
    "language = \"PERSEVERANCIA\"\n",
    "a, b, c, d, e, f, g, h, i, j, k, l,m= language\n",
    "print(a)\n",
    "print(m)\n",
    "language_slice=language[0:6]\n",
    "print(language_slice)\n",
    "language_slice = language[0:7:5]\n",
    "print(language_slice)\n",
    "language_sliceO=language[0:13:12]\n",
    "print(language_sliceO)"
   ]
  },
  {
   "cell_type": "code",
   "execution_count": 6,
   "metadata": {},
   "outputs": [
    {
     "name": "stdout",
     "output_type": "stream",
     "text": [
      "P\n",
      "A\n",
      "AICNAREVESREP\n",
      "PERSEVERANCIA\n",
      "PVC\n",
      "PREEACA\n"
     ]
    }
   ],
   "source": [
    "#Reverse\n",
    "language = \"PERSEVERANCIA\"\n",
    "a, b, c, d, e, f, g, h, i, j, k, l, m = language\n",
    "print(a)\n",
    "print(m)\n",
    "reverse_language= language[::-1]\n",
    "print(reverse_language)\n",
    "reverse_language = language[::+1]\n",
    "print(reverse_language)\n",
    "reverse_language=language[::+5]\n",
    "print(reverse_language)\n",
    "reverse_language = language[::+2]\n",
    "print(reverse_language)\n"
   ]
  },
  {
   "cell_type": "code",
   "execution_count": 7,
   "metadata": {},
   "outputs": [
    {
     "name": "stdout",
     "output_type": "stream",
     "text": [
      "[]\n",
      "[]\n",
      "(22, 'Imane', 'Abdeslami', 'Guapa')\n",
      "Guapa\n",
      "Guapa\n",
      "1\n"
     ]
    }
   ],
   "source": [
    "my_list=list()\n",
    "my_other_list=[]\n",
    "\n",
    "print(my_list)\n",
    "print(my_other_list)\n",
    "\n",
    "my_other_list=(22,\"Imane\",\"Abdeslami\",\"Guapa\")\n",
    "print(my_other_list)\n",
    "print(my_other_list[3])\n",
    "print(my_other_list[-1])\n",
    "print(my_other_list.count(\"Imane\"))\n"
   ]
  },
  {
   "cell_type": "code",
   "execution_count": 8,
   "metadata": {},
   "outputs": [
    {
     "name": "stdout",
     "output_type": "stream",
     "text": [
      "20\n",
      "4\n",
      "15\n",
      "1.5\n",
      "9\n",
      "150\n",
      "My string variable\n",
      "53\n",
      "False\n",
      "53\n",
      "<class 'str'>\n",
      "2\n",
      "Este es el valor de: 53\n",
      " mi variable se llama My string variable \n",
      " tiene el valor de: 53 \n",
      " todo esto es un valor ciertamente: False\n",
      "Mi nombre es %s %s y mi edad es %s\n",
      "Mi nombre es Anthony Martinez y mi edad es 25\n",
      "Mi nombre es Anthony Martinez y mi edad es 25\n"
     ]
    }
   ],
   "source": [
    "# 11/03/2023\n",
    "\n",
    "n1, n2, n3 = 1, 4, 15\n",
    "suma = n1 + n2 + n3\n",
    "multiplicacion = n1 * n2\n",
    "multiplicacion2 = n1 * n3\n",
    "print(suma)\n",
    "print(multiplicacion)\n",
    "print(multiplicacion2)\n",
    "\n",
    "print(3/2)\n",
    "print(3**2)\n",
    "print(10*15)\n",
    "\n",
    "my_variable = \"My string variable\"\n",
    "print(my_variable)\n",
    "my_int_variable=53 #entero\n",
    "print(my_int_variable)\n",
    "my_bool_variable=False #F o V\n",
    "print(my_bool_variable)\n",
    "my_int_to_str_variable=str(my_int_variable) #cadena \n",
    "print(my_int_to_str_variable)\n",
    "print(type(my_int_to_str_variable))#nos dice el tipo de dato que es\n",
    "\n",
    "print(len(my_int_to_str_variable))\n",
    "\n",
    "print(\"Este es el valor de:\", my_int_to_str_variable)\n",
    "\n",
    "print(\" mi variable se llama\",my_variable ,\"\\n\",\"tiene el valor de:\",my_int_variable,\"\\n\",\"todo esto es un valor ciertamente:\",my_bool_variable)\n",
    "\n",
    "name,surname,age=\"Anthony\",\"Martinez\",25\n",
    "print(\"Mi nombre es %s %s y mi edad es %s\".format(name,surname,age))\n",
    "print(\"Mi nombre es {} {} y mi edad es {}\".format(name,surname,age))\n",
    "print(f\"Mi nombre es {name} {surname} y mi edad es {age}\")\n"
   ]
  },
  {
   "cell_type": "code",
   "execution_count": 9,
   "metadata": {},
   "outputs": [
    {
     "name": "stdout",
     "output_type": "stream",
     "text": [
      "25\n",
      "23\n",
      "Anthony\n",
      "Imane\n",
      "Martinez\n",
      "Abdeslami\n",
      "1.74\n",
      "1.71\n",
      "[25, 1.74, 'Anthony', 'Martinez', 23, 'Imane', 'Abdeslami', 1.71]\n"
     ]
    }
   ],
   "source": [
    "#12/03/2023\n",
    "my_other_list = [25, 1.74, \"Anthony\", \"Martinez\"]\n",
    "my_other_list2=[23,\"Imane\",\"Abdeslami\",1.71]\n",
    "\n",
    "age,height,name,surname=my_other_list\n",
    "age2,name2,surname2,height2=my_other_list2\n",
    "print(age)\n",
    "print(age2)\n",
    "print(name)\n",
    "print(name2)\n",
    "print(surname)\n",
    "print(surname2)\n",
    "print(height)\n",
    "print(height2)\n",
    "\n",
    "#CONCATENACION DE 2 LISTAS\n",
    "print(my_other_list + my_other_list2)"
   ]
  },
  {
   "cell_type": "code",
   "execution_count": 10,
   "metadata": {},
   "outputs": [
    {
     "name": "stdout",
     "output_type": "stream",
     "text": [
      "<class 'list'>\n",
      "['Anthony', 'Bro', 'Giggo']\n",
      "['Anthony', 'Bro', 'Giggo', 'Titan']\n"
     ]
    }
   ],
   "source": [
    "# 14/03/2023\n",
    "\n",
    " #LISTAS \n",
    " #my_list=\"Hola bro\"#no nos funciona porque es una str debemos transformarlo a list\n",
    " #print(my_list)#\n",
    "my_list=[\"Anthony\",\"Bro\",\"Giggo\"]\n",
    "print(type(my_list))\n",
    "print(my_list)\n",
    "\n",
    "my_list.append(\"Titan\")\n",
    "print(my_list)"
   ]
  },
  {
   "cell_type": "code",
   "execution_count": 11,
   "metadata": {},
   "outputs": [
    {
     "name": "stdout",
     "output_type": "stream",
     "text": [
      "['Developer', 'Anthony', 'Bro', 'Giggo', 'Titan']\n",
      "['Anthony', 'Bro', 'Giggo', 'Titan']\n"
     ]
    }
   ],
   "source": [
    "\n",
    "my_list.insert(0,\"Developer\")\n",
    "print(my_list)\n",
    "\n",
    "my_list.remove(\"Developer\")\n",
    "print(my_list)\n"
   ]
  },
  {
   "cell_type": "code",
   "execution_count": 12,
   "metadata": {},
   "outputs": [
    {
     "ename": "ValueError",
     "evalue": "list.remove(x): x not in list",
     "output_type": "error",
     "traceback": [
      "\u001b[1;31m---------------------------------------------------------------------------\u001b[0m",
      "\u001b[1;31mValueError\u001b[0m                                Traceback (most recent call last)",
      "Cell \u001b[1;32mIn[12], line 1\u001b[0m\n\u001b[1;32m----> 1\u001b[0m my_list\u001b[39m.\u001b[39;49mremove(\u001b[39m\"\u001b[39;49m\u001b[39mLeón\u001b[39;49m\u001b[39m\"\u001b[39;49m)\n\u001b[0;32m      2\u001b[0m \u001b[39mprint\u001b[39m(my_list)\n",
      "\u001b[1;31mValueError\u001b[0m: list.remove(x): x not in list"
     ]
    }
   ],
   "source": [
    "my_list.remove(\"León\")\n",
    "print(my_list)\n"
   ]
  },
  {
   "cell_type": "code",
   "execution_count": null,
   "metadata": {},
   "outputs": [
    {
     "name": "stdout",
     "output_type": "stream",
     "text": [
      "[100, 550, 900, 1250, 1600, 1900, 2250, 5000]\n",
      "[0, 100, 550, 900, 1250, 1600, 1900, 2250, 5000]\n",
      "[0, 100, 900, 1250, 1600, 1900, 2250, 5000]\n",
      "[0, 100, 900, 1250, 1600, 1900, 2250]\n",
      "2250\n",
      "100\n"
     ]
    }
   ],
   "source": [
    "my_list5=[100,550,900,1250,1600,1900,2250]\n",
    "#Operador .append \n",
    "my_list5.append(5000)\n",
    "print(my_list5)\n",
    "#Operador .insert \n",
    "my_list5.insert(0,0)\n",
    "print(my_list5)\n",
    "#Operador .remove\n",
    "my_list5.remove(550)\n",
    "print(my_list5)\n",
    "#Operador .pop\n",
    "my_list5.pop()#elimina el ultimo elemento\n",
    "print(my_list5)\n",
    "\n",
    "print(my_list5.pop())#elimina y nos da el elemento que hemos eliminado\n",
    "my_list5.pop(0)  #Nos elimina un elemento en un lugar concreto\n",
    "print(my_list5.pop(0))# elimina y nos muestra lo que se almacena y nos retorna.\n",
    "\n"
   ]
  },
  {
   "cell_type": "code",
   "execution_count": null,
   "metadata": {},
   "outputs": [
    {
     "name": "stdout",
     "output_type": "stream",
     "text": [
      "[900, 1250, 1600, 1900]\n"
     ]
    }
   ],
   "source": [
    "print(my_list5)\n",
    "\n",
    " \n",
    " \n",
    "\n"
   ]
  },
  {
   "cell_type": "code",
   "execution_count": null,
   "metadata": {},
   "outputs": [
    {
     "name": "stdout",
     "output_type": "stream",
     "text": [
      "1900\n"
     ]
    }
   ],
   "source": [
    "print(my_list5.pop())\n"
   ]
  },
  {
   "cell_type": "code",
   "execution_count": null,
   "metadata": {},
   "outputs": [
    {
     "name": "stdout",
     "output_type": "stream",
     "text": [
      "[900, 1250, 1600]\n"
     ]
    }
   ],
   "source": [
    "print(my_list5.pop())"
   ]
  },
  {
   "cell_type": "code",
   "execution_count": null,
   "metadata": {},
   "outputs": [
    {
     "name": "stdout",
     "output_type": "stream",
     "text": [
      "1600\n"
     ]
    }
   ],
   "source": [
    "print(my_list5.pop(2))\n",
    "\n"
   ]
  },
  {
   "cell_type": "code",
   "execution_count": null,
   "metadata": {},
   "outputs": [
    {
     "name": "stdout",
     "output_type": "stream",
     "text": [
      "[900, 1250]\n"
     ]
    }
   ],
   "source": [
    "print(my_list5)\n",
    "#perfecto"
   ]
  },
  {
   "cell_type": "code",
   "execution_count": null,
   "metadata": {},
   "outputs": [
    {
     "name": "stdout",
     "output_type": "stream",
     "text": [
      "[1250]\n"
     ]
    }
   ],
   "source": [
    "#ELIMINAR UNA LISTA ENTERA\n",
    "del my_list5[0]\n",
    "print(my_list5)\n"
   ]
  },
  {
   "cell_type": "code",
   "execution_count": null,
   "metadata": {},
   "outputs": [
    {
     "name": "stdout",
     "output_type": "stream",
     "text": [
      "[]\n"
     ]
    }
   ],
   "source": [
    "#LIMPIAR LA LISTA ENTERA\n",
    "my_list5.clear()\n",
    "print(my_list5)"
   ]
  },
  {
   "cell_type": "code",
   "execution_count": null,
   "metadata": {},
   "outputs": [
    {
     "name": "stdout",
     "output_type": "stream",
     "text": [
      "<class 'list'>\n",
      "(26, 1.74, 'Anthony', 'Martinez')\n",
      "<class 'tuple'>\n",
      "26\n",
      "Martinez\n",
      "1\n",
      "2\n",
      "3\n",
      "(26, 1.74, 'Anthony', 'Martinez', 3455, 12)\n"
     ]
    }
   ],
   "source": [
    "#REPASO 19/03/2023\n",
    "\n",
    "##TUPLES##\n",
    "#SON VALORES CONSTANTES A DIFERENCIA DE LAS LISTAS\n",
    "#NO SOPORTA LAS VARIABLES (INMUTABLE)\n",
    "\n",
    "my_tuple=tuple()\n",
    "my_other_tuple=[]#nos dice que es una lista\n",
    "print(type(my_other_tuple))\n",
    "\n",
    "my_tuple=(26,1.74,\"Anthony\",\"Martinez\")\n",
    "print(my_tuple)\n",
    "my_other_tuple=(3455,12)\n",
    "print(type(my_other_tuple))\n",
    "\n",
    "print(my_tuple[0])\n",
    "print(my_tuple[-1])\n",
    "#print(my_tuple[4])#index error\n",
    "#print(my_tuple[-6])#index error\n",
    "#print(my_tuple[41])#index error\n",
    "\n",
    "#my_tuple.count() aspecto de la funcion .count\n",
    "print(my_tuple.count(\"Anthony\"))\n",
    "print(my_tuple.index(\"Anthony\"))\n",
    "print(my_tuple.index(\"Martinez\"))\n",
    "\n",
    "#my_tuple[0]=24\n",
    "#print(my_tuple) no soporta las variables\n",
    "\n",
    "print(my_tuple + my_other_tuple)\n"
   ]
  },
  {
   "cell_type": "code",
   "execution_count": 4,
   "metadata": {},
   "outputs": [
    {
     "name": "stdout",
     "output_type": "stream",
     "text": [
      "<class 'set'>\n",
      "<class 'dict'>\n",
      "<class 'set'>\n"
     ]
    }
   ],
   "source": [
    "#25/03/23\n",
    "# del my_tuple name 'my_tuple' is not defined(no tiene esa función)\n",
    "\n",
    "#SETS\n",
    "my_list=list()\n",
    "my_set=set()\n",
    "print(type(my_set))\n",
    "\n",
    "my_other_set={}\n",
    "print(type(my_other_set))  # <class 'dict'> (diccionario) solo ocurre asi y ya está no tiene una explicación clara por el momento\n",
    "my_other_set={\"Anthony\",\"Leon\",25}\n",
    "print(type(my_other_set))# en este caso es un tipo set, ya que contiene datos \n",
    "\n",
    "\n",
    "\n"
   ]
  },
  {
   "cell_type": "code",
   "execution_count": 5,
   "metadata": {},
   "outputs": [
    {
     "name": "stdout",
     "output_type": "stream",
     "text": [
      "{'Canelones', 'Burritos', 'Caldo de bola', 'Pizza', 'Mousse de chocolate'}\n",
      "{'Canelones', 'Burritos', 'Helado de kit kat', 'Caldo de bola', 'Pizza', 'Mousse de chocolate'}\n"
     ]
    }
   ],
   "source": [
    "#26/03/2023\n",
    "#sets\n",
    "my_first_set={\"Canelones\",\"Caldo de bola\",\"Burritos\",\"Pizza\",\"Mousse de chocolate\"}\n",
    "print(my_first_set)\n",
    "my_first_set.add(\"Helado de kit kat\")\n",
    "print(my_first_set)#no es una estructura ordenada\n"
   ]
  },
  {
   "cell_type": "code",
   "execution_count": 6,
   "metadata": {},
   "outputs": [
    {
     "name": "stdout",
     "output_type": "stream",
     "text": [
      "False\n",
      "True\n",
      "True\n",
      "True\n"
     ]
    }
   ],
   "source": [
    "print(\"Anthony\" in my_first_set)\n",
    "print(\"Burritos\" in my_first_set)\n",
    "print(\"Pizza\" in my_first_set)\n",
    "print(\"Mousse de chocolate\" in my_first_set)\n"
   ]
  },
  {
   "cell_type": "code",
   "execution_count": 10,
   "metadata": {},
   "outputs": [
    {
     "name": "stdout",
     "output_type": "stream",
     "text": [
      "<class 'list'>\n",
      "Guapa\n",
      "Brava\n"
     ]
    }
   ],
   "source": [
    "#28/03/23\n",
    "#Sets\n",
    "\n",
    "my_set={\"Imane\",\"Guapa\",\"Pintora\",\"Brava\"}\n",
    "my_list=list(my_set)\n",
    "print(type(my_list))\n",
    "print(my_list[1])\n",
    "print(my_list[3])\n",
    "\n"
   ]
  },
  {
   "cell_type": "code",
   "execution_count": 13,
   "metadata": {},
   "outputs": [
    {
     "name": "stdout",
     "output_type": "stream",
     "text": [
      "{28, 'Retiro', 23, 25, 26, 'Pomodoro', 'Casa'}\n",
      "{'Ingeniera', 'Retiro', 'Programador', 'Pomodoro', 'Casa', 23, 25, 26, 28}\n"
     ]
    }
   ],
   "source": [
    "#.union\n",
    "my_set={\"Retiro\",\"Pomodoro\",\"Casa\"}\n",
    "my_other_set={26,23,28,25}\n",
    "my_new_set=my_set.union(my_other_set)\n",
    "print(my_new_set)\n",
    "print(my_new_set.union(my_new_set).union({\"Programador\",\"Ingeniera\"}))\n"
   ]
  }
 ],
 "metadata": {
  "kernelspec": {
   "display_name": "Python 3",
   "language": "python",
   "name": "python3"
  },
  "language_info": {
   "codemirror_mode": {
    "name": "ipython",
    "version": 3
   },
   "file_extension": ".py",
   "mimetype": "text/x-python",
   "name": "python",
   "nbconvert_exporter": "python",
   "pygments_lexer": "ipython3",
   "version": "3.11.2"
  },
  "orig_nbformat": 4
 },
 "nbformat": 4,
 "nbformat_minor": 2
}
