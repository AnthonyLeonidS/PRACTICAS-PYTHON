{
 "cells": [
  {
   "cell_type": "code",
   "execution_count": 1,
   "metadata": {},
   "outputs": [
    {
     "name": "stdout",
     "output_type": "stream",
     "text": [
      "7\n",
      "-1\n",
      "12\n",
      "0.75\n"
     ]
    }
   ],
   "source": [
    "###   OPERADORES ###\n",
    "#OPERADORES ARITMETICOS\n",
    "\"\"\" nos permite operar con números , sean enteros hasta complejos\"\"\"\n",
    "\n",
    "print(3 + 4)\n",
    "print(3 - 4)\n",
    "print(3 * 4)\n",
    "print(3 / 4)\n"
   ]
  },
  {
   "cell_type": "code",
   "execution_count": 2,
   "metadata": {},
   "outputs": [
    {
     "name": "stdout",
     "output_type": "stream",
     "text": [
      "0\n",
      "1\n",
      "0\n"
     ]
    },
    {
     "data": {
      "text/plain": [
       "'lo que da de resultado es el resto de la división'"
      ]
     },
     "execution_count": 2,
     "metadata": {},
     "output_type": "execute_result"
    }
   ],
   "source": [
    "#Operador de modulo \n",
    "print(10 % 2)\n",
    "print(10 % 3)\n",
    "print(10 % 5)\n",
    "\n",
    "\"\"\"lo que da de resultado es el resto de la división\"\"\"\"\"\n"
   ]
  },
  {
   "cell_type": "code",
   "execution_count": 3,
   "metadata": {},
   "outputs": [
    {
     "name": "stdout",
     "output_type": "stream",
     "text": [
      "0.6666666666666666\n",
      "0\n",
      "5.0\n",
      "5\n",
      "19.0\n",
      "10.0\n"
     ]
    }
   ],
   "source": [
    "\"\"\"OPERADOR DE DIVISION\"\"\"\n",
    "print(2 / 3)\n",
    "print(2 // 3) #es igual que el operador \"/\" pero en este caso redondea.\n",
    "print(10 / 2)\n",
    "print(10 // 2)\n",
    "print(5 + 7 + 8 - 7 / 1 // 4)\n",
    "print(2 ** 3 + 3 - 7 / 1 // 4)\n"
   ]
  },
  {
   "cell_type": "code",
   "execution_count": 4,
   "metadata": {},
   "outputs": [
    {
     "name": "stdout",
     "output_type": "stream",
     "text": [
      "8\n",
      "9765625\n"
     ]
    }
   ],
   "source": [
    "#OPERADOR CON EXPONENTE \n",
    "print(2**3)\n",
    "print(5**10)"
   ]
  },
  {
   "cell_type": "code",
   "execution_count": 5,
   "metadata": {},
   "outputs": [
    {
     "name": "stdout",
     "output_type": "stream",
     "text": [
      "holaPython\n"
     ]
    }
   ],
   "source": [
    "#OPERADORES CON CADENAS--PARA CONCATENAR\n",
    "\n",
    "print(\"hola\" + \"Python\")"
   ]
  },
  {
   "cell_type": "code",
   "execution_count": 6,
   "metadata": {},
   "outputs": [
    {
     "name": "stdout",
     "output_type": "stream",
     "text": [
      "Hola Tony,¿Qué tal?\n"
     ]
    }
   ],
   "source": [
    "print(\"Hola \" + \"Tony,\" +\"¿Qué tal?\")"
   ]
  },
  {
   "cell_type": "code",
   "execution_count": 7,
   "metadata": {},
   "outputs": [
    {
     "name": "stdout",
     "output_type": "stream",
     "text": [
      "Hola 5\n"
     ]
    }
   ],
   "source": [
    "print(\"Hola \" + str(5))"
   ]
  },
  {
   "cell_type": "code",
   "execution_count": 8,
   "metadata": {},
   "outputs": [
    {
     "name": "stdout",
     "output_type": "stream",
     "text": [
      "hola hola hola \n",
      "666852553 666852553 666852553 666852553 666852553 666852553 666852553 \n",
      "666852553\n",
      "666852553\n",
      "666852553\n",
      "666852553\n",
      "666852553\n",
      "666852553\n",
      "666852553\n",
      "\n"
     ]
    }
   ],
   "source": [
    "#MULTIPLICAR CADENAS\n",
    "print(\"hola \" * 3)\n",
    "print(\"666852553 \" * 7)\n",
    "print(\"666852553\\n\" * 7)#este es un caracter especial \"\\n\"\n"
   ]
  },
  {
   "cell_type": "code",
   "execution_count": 9,
   "metadata": {},
   "outputs": [
    {
     "name": "stdout",
     "output_type": "stream",
     "text": [
      "hola hola hola hola hola hola hola hola \n"
     ]
    }
   ],
   "source": [
    "print(\"hola \" * (2 ** 3))"
   ]
  },
  {
   "cell_type": "code",
   "execution_count": 10,
   "metadata": {},
   "outputs": [
    {
     "ename": "TypeError",
     "evalue": "can't multiply sequence by non-int of type 'float'",
     "output_type": "error",
     "traceback": [
      "\u001b[1;31m---------------------------------------------------------------------------\u001b[0m",
      "\u001b[1;31mTypeError\u001b[0m                                 Traceback (most recent call last)",
      "Cell \u001b[1;32mIn[10], line 2\u001b[0m\n\u001b[0;32m      1\u001b[0m \u001b[39m#Nos va a dar error\u001b[39;00m\n\u001b[1;32m----> 2\u001b[0m \u001b[39mprint\u001b[39m(\u001b[39m\"\u001b[39;49m\u001b[39mhola\u001b[39;49m\u001b[39m\"\u001b[39;49m \u001b[39m*\u001b[39;49m \u001b[39m2.5\u001b[39;49m) \u001b[39m#porque los números decimales son float no int\u001b[39;00m\n",
      "\u001b[1;31mTypeError\u001b[0m: can't multiply sequence by non-int of type 'float'"
     ]
    }
   ],
   "source": [
    "#Nos va a dar error\n",
    "print(\"hola\" * 2.5) #porque los números decimales son float no int\n"
   ]
  },
  {
   "cell_type": "code",
   "execution_count": null,
   "metadata": {},
   "outputs": [
    {
     "name": "stdout",
     "output_type": "stream",
     "text": [
      "hola hola hola hola hola \n",
      "Hola Hola Hola Hola Hola Hola \n",
      "Hola Hola Hola Hola Hola Hola Hola Hola Hola \n"
     ]
    },
    {
     "data": {
      "text/plain": [
       "'es importante usar el int(variable que sea)'"
      ]
     },
     "execution_count": 17,
     "metadata": {},
     "output_type": "execute_result"
    }
   ],
   "source": [
    "# Creamos una variable que se adapte al tipo de número\n",
    "my_float = 2.5 * 2\n",
    "my_float1=3 * 2\n",
    "my_float2=3.3 * 3\n",
    "\n",
    "print(\"hola \" * int(my_float))\n",
    "print(\"Hola \" * int(my_float1))\n",
    "print(\"Hola \" * int(my_float2))\n",
    "\n",
    "\"\"\"es importante usar el int(variable que sea)\"\"\""
   ]
  },
  {
   "cell_type": "code",
   "execution_count": null,
   "metadata": {},
   "outputs": [
    {
     "name": "stdout",
     "output_type": "stream",
     "text": [
      "False\n",
      "True\n",
      "True\n",
      "False\n",
      "False\n",
      "True\n"
     ]
    }
   ],
   "source": [
    "#OPERADORES DE COMPARACIÓN O COMPARATIVOS\n",
    "print(3 > 4)\n",
    "print(3 < 4)\n",
    "print(3 <= 4)\n",
    "print(3 >= 4)\n",
    "print(3 == 4)\n",
    "print(3 != 4)\n",
    "\n"
   ]
  },
  {
   "cell_type": "code",
   "execution_count": null,
   "metadata": {},
   "outputs": [
    {
     "name": "stdout",
     "output_type": "stream",
     "text": [
      "True\n"
     ]
    }
   ],
   "source": [
    "#COMPARAR CADENAS\n",
    "print(\"hola\" == \"hola\")"
   ]
  },
  {
   "cell_type": "code",
   "execution_count": 1,
   "metadata": {},
   "outputs": [
    {
     "name": "stdout",
     "output_type": "stream",
     "text": [
      "False\n",
      "False\n",
      "False\n",
      "True\n",
      "True\n",
      "False\n"
     ]
    }
   ],
   "source": [
    "print(\"Hola\" < \"Hola\")\n",
    "print(\"python\" == \"PYTHON\")\n",
    "print(\"Hola\" > \"Python\")\n",
    "print(\"aa\" >= \"aa\")\n",
    "print(\"Hola\" != \"Python\")\n",
    "print(\"Hola\" != \"Hola\")\n",
    "\n",
    "##Comparamos en orden ALFABÉTICO##\n",
    "#Tiene en cuenta las mayúsculas sobre las minúsculas\n"
   ]
  },
  {
   "cell_type": "code",
   "execution_count": null,
   "metadata": {},
   "outputs": [
    {
     "name": "stdout",
     "output_type": "stream",
     "text": [
      "False\n",
      "False\n"
     ]
    }
   ],
   "source": [
    "##OPERADORES LÓGICOS\n",
    "\n",
    "print(3 > 4 and \"HOLA\" > \"PYTHON\") \n",
    "print(3 > 4 or \"HOLA\" > \"PYTHON\")\n",
    "\n",
    "\n"
   ]
  },
  {
   "cell_type": "code",
   "execution_count": null,
   "metadata": {},
   "outputs": [
    {
     "name": "stdout",
     "output_type": "stream",
     "text": [
      "True\n",
      "True\n",
      "True\n"
     ]
    }
   ],
   "source": [
    "print(3 < 4 and \"HOLA\" < \"PYTHON\")\n",
    "print(3 < 4 or \"HOLA\" < \"PYTHON\")\n",
    "print(3 < 4 or \"HOLA\" < \"PYTHON\" and 4==4)\n"
   ]
  },
  {
   "cell_type": "code",
   "execution_count": null,
   "metadata": {},
   "outputs": [
    {
     "ename": "SyntaxError",
     "evalue": "invalid syntax. Perhaps you forgot a comma? (920703616.py, line 1)",
     "output_type": "error",
     "traceback": [
      "\u001b[1;36m  Cell \u001b[1;32mIn[1], line 1\u001b[1;36m\u001b[0m\n\u001b[1;33m    print(3 > 4 not \"hola\" > \"python\")\u001b[0m\n\u001b[1;37m          ^\u001b[0m\n\u001b[1;31mSyntaxError\u001b[0m\u001b[1;31m:\u001b[0m invalid syntax. Perhaps you forgot a comma?\n"
     ]
    }
   ],
   "source": [
    "print(3 > 4 not \"hola\" > \"python\")"
   ]
  },
  {
   "cell_type": "code",
   "execution_count": null,
   "metadata": {},
   "outputs": [
    {
     "name": "stdout",
     "output_type": "stream",
     "text": [
      "False\n",
      "True\n"
     ]
    }
   ],
   "source": [
    "print(3 > 4)\n",
    "print(not(3>4))\n",
    "\n"
   ]
  }
 ],
 "metadata": {
  "kernelspec": {
   "display_name": "Python 3",
   "language": "python",
   "name": "python3"
  },
  "language_info": {
   "codemirror_mode": {
    "name": "ipython",
    "version": 3
   },
   "file_extension": ".py",
   "mimetype": "text/x-python",
   "name": "python",
   "nbconvert_exporter": "python",
   "pygments_lexer": "ipython3",
   "version": "3.11.2"
  },
  "orig_nbformat": 4,
  "vscode": {
   "interpreter": {
    "hash": "dff2e0a9212f7db85cacc32f123ad1f4a5e0b42bd6e31a9f39ce8f307d53605f"
   }
  }
 },
 "nbformat": 4,
 "nbformat_minor": 2
}
